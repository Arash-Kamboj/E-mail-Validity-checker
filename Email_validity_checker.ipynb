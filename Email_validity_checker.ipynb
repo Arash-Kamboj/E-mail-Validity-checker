{
  "nbformat": 4,
  "nbformat_minor": 0,
  "metadata": {
    "colab": {
      "provenance": [],
      "authorship_tag": "ABX9TyPua94DAyG4FALlX7a6SrCa",
      "include_colab_link": true
    },
    "kernelspec": {
      "name": "python3",
      "display_name": "Python 3"
    },
    "language_info": {
      "name": "python"
    }
  },
  "cells": [
    {
      "cell_type": "markdown",
      "metadata": {
        "id": "view-in-github",
        "colab_type": "text"
      },
      "source": [
        "<a href=\"https://colab.research.google.com/github/Arash-Kamboj/E-mail-Validity-checker/blob/main/Email_validity_checker.ipynb\" target=\"_parent\"><img src=\"https://colab.research.google.com/assets/colab-badge.svg\" alt=\"Open In Colab\"/></a>"
      ]
    },
    {
      "cell_type": "code",
      "execution_count": null,
      "metadata": {
        "id": "xKsQr1EUtTna"
      },
      "outputs": [],
      "source": [
        "email = input(\"Enter you e-mail address: \")\n",
        "\n",
        "def validate_email(email):\n",
        "  if '@' and \"gmail.com\" in email:\n",
        "    print(\"Email is valid\")\n",
        "  elif '@' and \"yahoo.com\" in email:\n",
        "    print(\"Email is valid\")\n",
        "  elif '@' and \"rediff.com\" in email:\n",
        "    print(\"Email is valid\")\n",
        "  elif '@' and \"hotmail.com\" in email:\n",
        "    print(\"Email is valid\")\n",
        "  else:\n",
        "    print(\"Email is not valid\")\n",
        "\n",
        "validate_email(email)\n"
      ]
    }
  ]
}